{
 "cells": [
  {
   "attachments": {},
   "cell_type": "markdown",
   "metadata": {},
   "source": [
    "convert the output conll files to jsonlines and place in this directory for evaluation"
   ]
  },
  {
   "cell_type": "code",
   "execution_count": 6,
   "metadata": {},
   "outputs": [],
   "source": [
    "from corefeval import get_metrics, Scorer, Document"
   ]
  },
  {
   "cell_type": "code",
   "execution_count": 7,
   "metadata": {},
   "outputs": [],
   "source": [
    "# load documents:\n",
    "gold_path = \"NORBERT_test_e20.gold.jsonl\"\n",
    "pred_path = \"NORBERT_test_e20.pred.jsonl\"\n",
    "\n",
    "import json\n",
    "gold_clusters = []\n",
    "with open(gold_path) as f:\n",
    "    gold_clusters = [json.loads(line)[\"clusters\"] for line in f]\n",
    "\n",
    "pred_clusters = []\n",
    "with open(pred_path) as f:\n",
    "    pred_clusters = [json.loads(line)[\"clusters\"] for line in f]"
   ]
  },
  {
   "cell_type": "code",
   "execution_count": 8,
   "metadata": {},
   "outputs": [
    {
     "data": {
      "text/plain": [
       "[[[0, 0],\n",
       "  [16, 16],\n",
       "  [19, 19],\n",
       "  [33, 33],\n",
       "  [44, 44],\n",
       "  [88, 88],\n",
       "  [91, 91],\n",
       "  [97, 97]],\n",
       " [[3, 3],\n",
       "  [23, 23],\n",
       "  [40, 40],\n",
       "  [49, 49],\n",
       "  [78, 78],\n",
       "  [102, 102],\n",
       "  [150, 150],\n",
       "  [161, 161],\n",
       "  [190, 190],\n",
       "  [216, 216]],\n",
       " [[6, 6], [45, 45]],\n",
       " [[26, 26], [53, 53], [106, 106], [154, 154]],\n",
       " [[116, 116], [121, 121]]]"
      ]
     },
     "execution_count": 8,
     "metadata": {},
     "output_type": "execute_result"
    }
   ],
   "source": [
    "gold_clusters[0]"
   ]
  },
  {
   "cell_type": "code",
   "execution_count": 9,
   "metadata": {},
   "outputs": [
    {
     "data": {
      "text/plain": [
       "[[[0, 0], [16, 16], [33, 33], [88, 88], [91, 91], [97, 97]],\n",
       " [[3, 3],\n",
       "  [26, 26],\n",
       "  [40, 40],\n",
       "  [53, 53],\n",
       "  [65, 65],\n",
       "  [78, 78],\n",
       "  [106, 106],\n",
       "  [150, 150],\n",
       "  [190, 190]],\n",
       " [[23, 23], [110, 110], [161, 161], [216, 216]],\n",
       " [[28, 28], [121, 121]],\n",
       " [[158, 158], [175, 175]]]"
      ]
     },
     "execution_count": 9,
     "metadata": {},
     "output_type": "execute_result"
    }
   ],
   "source": [
    "pred_clusters[0]"
   ]
  },
  {
   "cell_type": "code",
   "execution_count": 10,
   "metadata": {},
   "outputs": [],
   "source": [
    "scorer = Scorer()\n",
    "\n",
    "for gold_doc, pred_doc in zip(gold_clusters, pred_clusters):\n",
    "    _doc = Document(predicted = pred_doc, truth = gold_doc)\n",
    "    scorer.update(_doc)"
   ]
  },
  {
   "cell_type": "code",
   "execution_count": 12,
   "metadata": {},
   "outputs": [
    {
     "name": "stdout",
     "output_type": "stream",
     "text": [
      "Evaluating NORBERT on dataset: test\n",
      "Running metric: muc\n",
      "Precision:\t0.7807860262008733\n",
      "Recall:\t\t0.6234309623430963\n",
      "F1 score:\t0.6932919736331911\n",
      "-----------------------------------\n",
      "Running metric: b_cubed\n",
      "Precision:\t0.7048686567287099\n",
      "Recall:\t\t0.5479070297732702\n",
      "F1 score:\t0.6165548968576536\n",
      "-----------------------------------\n",
      "Running metric: ceafe\n",
      "Precision:\t0.6209219033857312\n",
      "Recall:\t\t0.48245340380440616\n",
      "F1 score:\t0.5429990753518548\n",
      "-----------------------------------\n",
      "Running metric: lea\n",
      "Precision:\t0.6716614880851286\n",
      "Recall:\t\t0.5174839802908748\n",
      "F1 score:\t0.584577866216924\n",
      "-----------------------------------\n",
      "\n",
      "CoNLL-2012 F1 score: 0.6176153152808997\n",
      "Evaluated 33 documents total\n"
     ]
    },
    {
     "data": {
      "text/plain": [
       "(0.6176153152808997,\n",
       " {'muc': {'precision': 0.7807860262008733,\n",
       "   'recall': 0.6234309623430963,\n",
       "   'f1': 0.6932919736331911},\n",
       "  'b_cubed': {'precision': 0.7048686567287099,\n",
       "   'recall': 0.5479070297732702,\n",
       "   'f1': 0.6165548968576536},\n",
       "  'ceafe': {'precision': 0.6209219033857312,\n",
       "   'recall': 0.48245340380440616,\n",
       "   'f1': 0.5429990753518548},\n",
       "  'lea': {'precision': 0.6716614880851286,\n",
       "   'recall': 0.5174839802908748,\n",
       "   'f1': 0.584577866216924}})"
      ]
     },
     "execution_count": 12,
     "metadata": {},
     "output_type": "execute_result"
    }
   ],
   "source": [
    "scorer.detailed_score(\"NORBERT\", \"test\")"
   ]
  }
 ],
 "metadata": {
  "kernelspec": {
   "display_name": "Python 3",
   "language": "python",
   "name": "python3"
  },
  "language_info": {
   "codemirror_mode": {
    "name": "ipython",
    "version": 3
   },
   "file_extension": ".py",
   "mimetype": "text/x-python",
   "name": "python",
   "nbconvert_exporter": "python",
   "pygments_lexer": "ipython3",
   "version": "3.10.9"
  },
  "orig_nbformat": 4,
  "vscode": {
   "interpreter": {
    "hash": "bda33b16be7e844498c7c2d368d72665b4f1d165582b9547ed22a0249a29ca2e"
   }
  }
 },
 "nbformat": 4,
 "nbformat_minor": 2
}
