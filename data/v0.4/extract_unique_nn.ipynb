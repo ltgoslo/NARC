{
 "cells": [
  {
   "cell_type": "code",
   "execution_count": 2,
   "metadata": {},
   "outputs": [],
   "source": [
    "import os"
   ]
  },
  {
   "cell_type": "code",
   "execution_count": 3,
   "metadata": {},
   "outputs": [],
   "source": [
    "lang = \"annotation_nynorsk\"\n",
    "finished = \"FINISHED_ANNOTATIONS_NYNORSK\"\n",
    "path = os.path.join(os.getcwd(), lang, finished)"
   ]
  },
  {
   "cell_type": "code",
   "execution_count": 6,
   "metadata": {},
   "outputs": [],
   "source": [
    "from collections import defaultdict\n",
    "files_with_dir = defaultdict(list)\n",
    "\n",
    "for root, dirs, files in os.walk(path):\n",
    "    for file in files:\n",
    "        if \".ann\" in file:\n",
    "            short_path = root.split(finished)[1]\n",
    "            files_with_dir[file].append(os.path.join(root, file))"
   ]
  },
  {
   "cell_type": "code",
   "execution_count": 7,
   "metadata": {},
   "outputs": [],
   "source": [
    "import json\n",
    "# save the dictionary to a json file\n",
    "with open(\"finished_nn.json\", \"w\") as f:\n",
    "    json.dump(files_with_dir, f, indent=4)"
   ]
  },
  {
   "attachments": {},
   "cell_type": "markdown",
   "metadata": {},
   "source": [
    "# Process the data"
   ]
  },
  {
   "cell_type": "code",
   "execution_count": 13,
   "metadata": {},
   "outputs": [],
   "source": [
    "def nynorsk_sort(path):\n",
    "    if \"review\" in path:\n",
    "        return 1\n",
    "    elif \"IAA_B\" in path:\n",
    "        return 2\n",
    "    elif \"IAA_A\" in path:\n",
    "        return 3\n",
    "    else:\n",
    "        return 4\n",
    "\n",
    "first_filter = {}\n",
    "for fileid, paths in files_with_dir.items():\n",
    "    if len(paths) > 1:\n",
    "        sorted_paths = sorted(paths, key=nynorsk_sort)\n",
    "\n",
    "        first_filter[fileid] = sorted_paths[0]\n",
    "    else:\n",
    "        first_filter[fileid] = paths[0]\n",
    "\n",
    "with open(\"finished_nn.json\", \"w\") as f:\n",
    "    json.dump(first_filter, f, indent=4)"
   ]
  },
  {
   "cell_type": "code",
   "execution_count": 14,
   "metadata": {},
   "outputs": [],
   "source": [
    "save_bm = \"FINISHED_BOKMAAL\"\n",
    "save_nn = \"FINISHED_NYNORSK\"\n",
    "os.makedirs(save_bm, exist_ok=True)\n",
    "os.makedirs(save_nn, exist_ok=True)"
   ]
  },
  {
   "cell_type": "code",
   "execution_count": 15,
   "metadata": {},
   "outputs": [],
   "source": [
    "import shutil\n",
    "for fileid, ann_path in first_filter.items():\n",
    "    txt_path = ann_path.replace(\".ann\", \".txt\")\n",
    "    txt_id = os.path.basename(txt_path)\n",
    "    # copy the files to the new folder\n",
    "    shutil.copy(ann_path, os.path.join(save_nn, fileid))\n",
    "    shutil.copy(txt_path, os.path.join(save_nn, txt_id))\n",
    "\n"
   ]
  },
  {
   "cell_type": "code",
   "execution_count": null,
   "metadata": {},
   "outputs": [],
   "source": []
  }
 ],
 "metadata": {
  "kernelspec": {
   "display_name": "Python 3",
   "language": "python",
   "name": "python3"
  },
  "language_info": {
   "codemirror_mode": {
    "name": "ipython",
    "version": 3
   },
   "file_extension": ".py",
   "mimetype": "text/x-python",
   "name": "python",
   "nbconvert_exporter": "python",
   "pygments_lexer": "ipython3",
   "version": "3.11.1"
  },
  "orig_nbformat": 4,
  "vscode": {
   "interpreter": {
    "hash": "c261aea317cc0286b3b3261fbba9abdec21eaa57589985bb7a274bf54d6cc0a7"
   }
  }
 },
 "nbformat": 4,
 "nbformat_minor": 2
}
