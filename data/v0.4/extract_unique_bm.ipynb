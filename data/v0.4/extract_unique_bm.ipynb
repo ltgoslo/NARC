{
 "cells": [
  {
   "cell_type": "code",
   "execution_count": 1,
   "metadata": {},
   "outputs": [],
   "source": [
    "import os"
   ]
  },
  {
   "cell_type": "code",
   "execution_count": 13,
   "metadata": {},
   "outputs": [],
   "source": [
    "lang = \"annotation_bokmaal\"\n",
    "finished = \"FINISHED_ANNOTATIONS\"\n",
    "path = os.path.join(os.getcwd(), lang, finished)"
   ]
  },
  {
   "cell_type": "code",
   "execution_count": 14,
   "metadata": {},
   "outputs": [],
   "source": [
    "from collections import defaultdict\n",
    "files_with_dir = defaultdict(list)\n",
    "# walk through the directory and get all the files\n",
    "# add their paths to the dictionary\n",
    "\n",
    "for root, dirs, files in os.walk(path):\n",
    "    for file in files:\n",
    "        if \".ann\" in file: # disregard txts, assuming 1 to 1\n",
    "            # only append the path from the \"FINISHED_ANNOTATION\" folder:\n",
    "            short_path = root.split(finished)[1]\n",
    "            files_with_dir[file].append(os.path.join(root, file))"
   ]
  },
  {
   "cell_type": "code",
   "execution_count": 15,
   "metadata": {},
   "outputs": [],
   "source": [
    "import json\n",
    "# save the dictionary to a json file\n",
    "with open(\"finished_bm.json\", \"w\") as f:\n",
    "    json.dump(files_with_dir, f, indent=4)"
   ]
  },
  {
   "attachments": {},
   "cell_type": "markdown",
   "metadata": {},
   "source": [
    "# Process the data"
   ]
  },
  {
   "cell_type": "code",
   "execution_count": 16,
   "metadata": {},
   "outputs": [
    {
     "data": {
      "text/plain": [
       "'bt~BT-20121106-2792372.ann'"
      ]
     },
     "execution_count": 16,
     "metadata": {},
     "output_type": "execute_result"
    }
   ],
   "source": [
    "s = \"bt~BT-20121106-2792372_review_liljacs.ann\"\n",
    "def strip_annotator(fileid):\n",
    "    fileid, filetype = fileid.split(\".\")\n",
    "    isnum = False\n",
    "    while not isnum:\n",
    "        if fileid[-1].isdigit():\n",
    "            isnum = True\n",
    "        else:\n",
    "            fileid = fileid[:-1]\n",
    "    return fileid + \".\" + filetype\n",
    "strip_annotator(s)"
   ]
  },
  {
   "cell_type": "code",
   "execution_count": 17,
   "metadata": {},
   "outputs": [],
   "source": [
    "def bokmaal_sort(path):\n",
    "    # prioritization:\n",
    "    # path contains...\n",
    "    # 1. \"Review_and_Curation\"\n",
    "    # 2. \"IAA_\"\n",
    "    if \"Review_and_Curation\" in path:\n",
    "        return 1\n",
    "    elif \"IAA_\" in path:\n",
    "        return 2\n",
    "    else:\n",
    "        return 3\n",
    "\n",
    "first_filter = {}\n",
    "for fileid, paths in files_with_dir.items():\n",
    "    if \"_\" in fileid:\n",
    "        fileid = strip_annotator(fileid)\n",
    "\n",
    "    if len(paths) > 1:\n",
    "        sorted_paths = sorted(paths, key=bokmaal_sort)\n",
    "\n",
    "        first_filter[fileid] = sorted_paths[0]\n",
    "    else:\n",
    "        first_filter[fileid] = paths[0]\n",
    "\n",
    "with open(\"finished_bm.json\", \"w\") as f:\n",
    "    json.dump(first_filter, f, indent=4)"
   ]
  },
  {
   "cell_type": "code",
   "execution_count": 19,
   "metadata": {},
   "outputs": [],
   "source": [
    "save_bm = \"FINISHED_BOKMAAL\"\n",
    "save_nn = \"FINISHED_NYNORSK\"\n",
    "os.makedirs(save_bm, exist_ok=True)\n",
    "os.makedirs(save_nn, exist_ok=True)"
   ]
  },
  {
   "cell_type": "code",
   "execution_count": 20,
   "metadata": {},
   "outputs": [],
   "source": [
    "import shutil\n",
    "for fileid, ann_path in first_filter.items():\n",
    "    txt_path = ann_path.replace(\".ann\", \".txt\")\n",
    "    txt_id = os.path.basename(txt_path)\n",
    "    # copy the files to the new folder\n",
    "    shutil.copy(ann_path, os.path.join(save_bm, fileid))\n",
    "    shutil.copy(txt_path, os.path.join(save_bm, txt_id))\n",
    "\n"
   ]
  },
  {
   "cell_type": "code",
   "execution_count": null,
   "metadata": {},
   "outputs": [],
   "source": []
  }
 ],
 "metadata": {
  "kernelspec": {
   "display_name": "Python 3",
   "language": "python",
   "name": "python3"
  },
  "language_info": {
   "codemirror_mode": {
    "name": "ipython",
    "version": 3
   },
   "file_extension": ".py",
   "mimetype": "text/x-python",
   "name": "python",
   "nbconvert_exporter": "python",
   "pygments_lexer": "ipython3",
   "version": "3.11.1"
  },
  "orig_nbformat": 4,
  "vscode": {
   "interpreter": {
    "hash": "c261aea317cc0286b3b3261fbba9abdec21eaa57589985bb7a274bf54d6cc0a7"
   }
  }
 },
 "nbformat": 4,
 "nbformat_minor": 2
}
